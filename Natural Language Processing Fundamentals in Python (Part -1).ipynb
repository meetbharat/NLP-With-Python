{
 "cells": [
  {
   "cell_type": "markdown",
   "metadata": {},
   "source": [
    "## Basics of Natural Language Processing in Python"
   ]
  },
  {
   "cell_type": "markdown",
   "metadata": {},
   "source": [
    "\n",
    "\n",
    "#### What exactly are regular expressions?\n",
    "\n",
    "Strings with a special syntax\n",
    "\n",
    "Allow us to match patterns in other strings\n",
    "\n",
    "Applications of regular expressions:\n",
    "- Find all web links in a document\n",
    "- Parse email addresses, remove/replace unwanted characters\n"
   ]
  },
  {
   "cell_type": "code",
   "execution_count": 7,
   "metadata": {},
   "outputs": [
    {
     "ename": "SyntaxError",
     "evalue": "invalid syntax (<ipython-input-7-b8d331a48b58>, line 2)",
     "output_type": "error",
     "traceback": [
      "\u001b[1;36m  File \u001b[1;32m\"<ipython-input-7-b8d331a48b58>\"\u001b[1;36m, line \u001b[1;32m2\u001b[0m\n\u001b[1;33m    <img src=\"img/Capture-NLP@.PNG\" />\u001b[0m\n\u001b[1;37m    ^\u001b[0m\n\u001b[1;31mSyntaxError\u001b[0m\u001b[1;31m:\u001b[0m invalid syntax\n"
     ]
    }
   ],
   "source": [
    "![title](img/Capture_NLP_LI.jpg) \n"
   ]
  },
  {
   "cell_type": "markdown",
   "metadata": {},
   "source": [
    "### Python's re Module\n",
    "- split: split a string on regex\n",
    "- findall: find all patterns in a string\n",
    "- search: search for a pattern\n",
    "- match: match an entire string or substring based on a pattern\n",
    "- Pattern first, and the string second\n",
    "- May return an iterator, string, or match objec"
   ]
  },
  {
   "cell_type": "markdown",
   "metadata": {},
   "source": [
    "### What is tokenization?\n",
    "\n",
    "Turning a string or document into tokens (smaller chunks)<br>\n",
    "One step in preparing a text for NLP<br>\n",
    "Many different theories and rules<br>\n",
    "You can create your own rules using regular expressions<br>\n",
    "Some examples:\n",
    "- Breaking out words or sentences\n",
    "- Separating punctuation\n",
    "- Separating all hashtags in a tweet"
   ]
  },
  {
   "cell_type": "markdown",
   "metadata": {},
   "source": [
    "### Why tokenize?\n",
    "- Easier to map part of speech<br>\n",
    "- Matching common words<br>\n",
    "- Removing unwanted tokens<br>\n",
    "- \"I don't like Sam's shoes.\"<br>\n",
    "- \"I\", \"do\", \"n't\", \"like\", \"Sam\", \"'s\", \"shoes\", \".\"<br>"
   ]
  },
  {
   "cell_type": "markdown",
   "metadata": {},
   "source": [
    "### Nltk tokenizers\n",
    "- sent_tokenize: tokenize a document into sentences\n",
    "- regexp_tokenize: tokenize a string or document based on a regular\n",
    "expression pattern\n",
    "- TweetTokenizer: special class just for tweet tokenization, allowing you\n",
    "to separate hashtags, mentions and lots of exclamation points!!!\n",
    "\n",
    "\n",
    "### Regex groups use\n",
    "- OR is represented using |\n",
    "- You can define a group using ()\n",
    "- You can define explicit character ranges using []"
   ]
  },
  {
   "cell_type": "code",
   "execution_count": null,
   "metadata": {},
   "outputs": [],
   "source": []
  }
 ],
 "metadata": {
  "kernelspec": {
   "display_name": "Python 3",
   "language": "python",
   "name": "python3"
  },
  "language_info": {
   "codemirror_mode": {
    "name": "ipython",
    "version": 3
   },
   "file_extension": ".py",
   "mimetype": "text/x-python",
   "name": "python",
   "nbconvert_exporter": "python",
   "pygments_lexer": "ipython3",
   "version": "3.6.3"
  }
 },
 "nbformat": 4,
 "nbformat_minor": 2
}
